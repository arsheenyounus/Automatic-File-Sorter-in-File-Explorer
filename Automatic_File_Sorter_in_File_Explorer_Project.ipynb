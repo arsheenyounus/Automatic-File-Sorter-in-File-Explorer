{
 "cells": [
  {
   "cell_type": "markdown",
   "id": "f859b270-4528-4880-bc33-ddaa13aa5648",
   "metadata": {},
   "source": [
    "# Automatic File Sorter in File Explorer"
   ]
  },
  {
   "cell_type": "code",
   "execution_count": 80,
   "id": "77ad2d14-8fa7-41d5-bcb9-b396c0e6ce15",
   "metadata": {},
   "outputs": [],
   "source": [
    "import os, shutil"
   ]
  },
  {
   "cell_type": "code",
   "execution_count": 82,
   "id": "84b4d0a5-5ee8-4299-90b9-86d44f32c9ab",
   "metadata": {},
   "outputs": [],
   "source": [
    "path = r\"/Users/arsheenyounus/Documents/Python Project/\""
   ]
  },
  {
   "cell_type": "code",
   "execution_count": 84,
   "id": "51287c74-379c-427a-9fbd-0132a77b43fb",
   "metadata": {},
   "outputs": [],
   "source": [
    "file_name = os.listdir(path)"
   ]
  },
  {
   "cell_type": "code",
   "execution_count": 88,
   "id": "b6bb0ca4-88f0-4585-88d7-42134c042d5e",
   "metadata": {},
   "outputs": [],
   "source": [
    "folder_names = ['CSV Files', 'PNG Files', 'PDF Files']\n",
    "\n",
    "for loop in range(0,3):\n",
    "    if not os.path.exists(path + folder_names[loop]):\n",
    "        os.makedirs(path + folder_names[loop])\n",
    "\n",
    "for file in file_name:\n",
    "    if \".csv\" in file and not os.path.exists(path + \"CSV Files/\" + file):\n",
    "        shutil.move(path + file, path + \"CSV Files/\" + file)\n",
    "    elif \".png\" in file and not os.path.exists(path + \"PNG Files/\" + file):\n",
    "        shutil.move(path + file, path + \"PNG Files/\" + file)\n",
    "    elif \".pdf\" in file and not os.path.exists(path + \"PDF Files/\" + file):\n",
    "        shutil.move(path + file, path + \"PDF Files/\" + file)"
   ]
  },
  {
   "cell_type": "code",
   "execution_count": null,
   "id": "887ece78-231b-4223-8a47-e6fe6d3472ce",
   "metadata": {},
   "outputs": [],
   "source": []
  }
 ],
 "metadata": {
  "kernelspec": {
   "display_name": "Python 3 (ipykernel)",
   "language": "python",
   "name": "python3"
  },
  "language_info": {
   "codemirror_mode": {
    "name": "ipython",
    "version": 3
   },
   "file_extension": ".py",
   "mimetype": "text/x-python",
   "name": "python",
   "nbconvert_exporter": "python",
   "pygments_lexer": "ipython3",
   "version": "3.12.7"
  }
 },
 "nbformat": 4,
 "nbformat_minor": 5
}
